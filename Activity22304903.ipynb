{
  "nbformat": 4,
  "nbformat_minor": 0,
  "metadata": {
    "colab": {
      "provenance": []
    },
    "kernelspec": {
      "name": "python3",
      "display_name": "Python 3"
    },
    "language_info": {
      "name": "python"
    }
  },
  "cells": [
    {
      "cell_type": "code",
      "source": [
        "from google.colab import drive\n",
        "drive.mount('/content/drive')\n"
      ],
      "metadata": {
        "colab": {
          "base_uri": "https://localhost:8080/"
        },
        "id": "DD7V81RYKu8k",
        "outputId": "1643c7ad-66ba-470b-ccd8-8102a255cbc1"
      },
      "execution_count": null,
      "outputs": [
        {
          "output_type": "stream",
          "name": "stdout",
          "text": [
            "Mounted at /content/drive\n"
          ]
        }
      ]
    },
    {
      "cell_type": "code",
      "source": [
        "import zipfile\n",
        "\n",
        "zip_path = '/content/drive/My Drive/health.zip'\n",
        "extract_path = '/content/health'\n",
        "\n",
        "with zipfile.ZipFile(zip_path, 'r') as zip_ref:\n",
        "    zip_ref.extractall(extract_path)\n",
        "\n",
        "print(\"✅ File extracted to:\", extract_path)\n",
        "\n"
      ],
      "metadata": {
        "colab": {
          "base_uri": "https://localhost:8080/"
        },
        "id": "e8iFPKEFMeTh",
        "outputId": "9c15615f-c571-4fd9-f8ed-214ab683ea9e"
      },
      "execution_count": null,
      "outputs": [
        {
          "output_type": "stream",
          "name": "stdout",
          "text": [
            "✅ File extracted to: /content/health\n"
          ]
        }
      ]
    },
    {
      "cell_type": "code",
      "source": [
        "import os\n",
        "\n",
        "print(os.listdir('/content/health'))\n"
      ],
      "metadata": {
        "colab": {
          "base_uri": "https://localhost:8080/"
        },
        "id": "JA-6rgn2NzL5",
        "outputId": "f6c6262d-311e-42ac-99ef-34b31271f649"
      },
      "execution_count": null,
      "outputs": [
        {
          "output_type": "stream",
          "name": "stdout",
          "text": [
            "['appointments.csv', 'treatments.csv', 'patients.csv', 'billing.csv', 'doctors.csv']\n"
          ]
        }
      ]
    },
    {
      "cell_type": "code",
      "source": [
        "import pandas as pd\n",
        "import os\n",
        "\n",
        "\n",
        "folder = '/content/health'\n",
        "\n",
        "csv_files = [f for f in os.listdir(folder) if f.endswith('.csv')]\n",
        "\n",
        "dataframes = {file: pd.read_csv(os.path.join(folder, file)) for file in csv_files}\n",
        "for file, df in dataframes.items():\n",
        "    print(f\"\\n--- {file} ---\")\n",
        "    print(df.head())\n",
        "\n"
      ],
      "metadata": {
        "colab": {
          "base_uri": "https://localhost:8080/"
        },
        "id": "-4owhDXfOJ66",
        "outputId": "f8be13ea-5641-4651-af8b-97f9f4b6dc77"
      },
      "execution_count": null,
      "outputs": [
        {
          "output_type": "stream",
          "name": "stdout",
          "text": [
            "\n",
            "--- appointments.csv ---\n",
            "  appointment_id patient_id doctor_id appointment_date appointment_time  \\\n",
            "0           A001       P034      D009       2023-08-09         15:15:00   \n",
            "1           A002       P032      D004       2023-06-09         14:30:00   \n",
            "2           A003       P048      D004       2023-06-28          8:00:00   \n",
            "3           A004       P025      D006       2023-09-01          9:15:00   \n",
            "4           A005       P040      D003       2023-07-06         12:45:00   \n",
            "\n",
            "  reason_for_visit     status  \n",
            "0          Therapy  Scheduled  \n",
            "1          Therapy    No-show  \n",
            "2     Consultation  Cancelled  \n",
            "3     Consultation  Cancelled  \n",
            "4        Emergency    No-show  \n",
            "\n",
            "--- treatments.csv ---\n",
            "  treatment_id appointment_id treatment_type         description     cost  \\\n",
            "0         T001           A001   Chemotherapy     Basic screening  3941.97   \n",
            "1         T002           A002            MRI   Advanced protocol  4158.44   \n",
            "2         T003           A003            MRI  Standard procedure  3731.55   \n",
            "3         T004           A004            MRI     Basic screening  4799.86   \n",
            "4         T005           A005            ECG  Standard procedure   582.05   \n",
            "\n",
            "  treatment_date  \n",
            "0     2023-08-09  \n",
            "1     2023-06-09  \n",
            "2     2023-06-28  \n",
            "3     2023-09-01  \n",
            "4     2023-07-06  \n",
            "\n",
            "--- patients.csv ---\n",
            "  patient_id first_name last_name gender date_of_birth  contact_number  \\\n",
            "0       P001      David  Williams      F    1955-06-04      6939585183   \n",
            "1       P002      Emily     Smith      F    1984-10-12      8228188767   \n",
            "2       P003      Laura     Jones      M    1977-08-21      8397029847   \n",
            "3       P004    Michael   Johnson      F    1981-02-20      9019443432   \n",
            "4       P005      David    Wilson      M    1960-06-23      7734463155   \n",
            "\n",
            "        address registration_date insurance_provider insurance_number  \\\n",
            "0   789 Pine Rd        2022-06-23       WellnessCorp        INS840674   \n",
            "1  321 Maple Dr        2022-01-15        PulseSecure        INS354079   \n",
            "2  321 Maple Dr        2022-02-07        PulseSecure        INS650929   \n",
            "3    123 Elm St        2021-03-02        HealthIndia        INS789944   \n",
            "4    123 Elm St        2021-09-29       MedCare Plus        INS788105   \n",
            "\n",
            "                      email  \n",
            "0   david.williams@mail.com  \n",
            "1      emily.smith@mail.com  \n",
            "2      laura.jones@mail.com  \n",
            "3  michael.johnson@mail.com  \n",
            "4     david.wilson@mail.com  \n",
            "\n",
            "--- billing.csv ---\n",
            "  bill_id patient_id treatment_id   bill_date   amount payment_method  \\\n",
            "0    B001       P034         T001  2023-08-09  3941.97      Insurance   \n",
            "1    B002       P032         T002  2023-06-09  4158.44      Insurance   \n",
            "2    B003       P048         T003  2023-06-28  3731.55      Insurance   \n",
            "3    B004       P025         T004  2023-09-01  4799.86      Insurance   \n",
            "4    B005       P040         T005  2023-07-06   582.05    Credit Card   \n",
            "\n",
            "  payment_status  \n",
            "0        Pending  \n",
            "1           Paid  \n",
            "2           Paid  \n",
            "3         Failed  \n",
            "4        Pending  \n",
            "\n",
            "--- doctors.csv ---\n",
            "  doctor_id first_name last_name specialization  phone_number  \\\n",
            "0      D001      David    Taylor    Dermatology    8322010158   \n",
            "1      D002       Jane     Davis     Pediatrics    9004382050   \n",
            "2      D003       Jane     Smith     Pediatrics    8737740598   \n",
            "3      D004      David     Jones     Pediatrics    6594221991   \n",
            "4      D005      Sarah    Taylor    Dermatology    9118538547   \n",
            "\n",
            "   years_experience   hospital_branch                         email  \n",
            "0                17   Westside Clinic  dr.david.taylor@hospital.com  \n",
            "1                24   Eastside Clinic    dr.jane.davis@hospital.com  \n",
            "2                19   Eastside Clinic    dr.jane.smith@hospital.com  \n",
            "3                28  Central Hospital   dr.david.jones@hospital.com  \n",
            "4                26  Central Hospital  dr.sarah.taylor@hospital.com  \n"
          ]
        }
      ]
    },
    {
      "cell_type": "code",
      "source": [
        "df.columns"
      ],
      "metadata": {
        "colab": {
          "base_uri": "https://localhost:8080/"
        },
        "id": "q5YxeYP9Qg3v",
        "outputId": "7af87176-5934-458a-b475-3b7ba8f66da0"
      },
      "execution_count": null,
      "outputs": [
        {
          "output_type": "execute_result",
          "data": {
            "text/plain": [
              "Index(['doctor_id', 'first_name', 'last_name', 'specialization',\n",
              "       'phone_number', 'years_experience', 'hospital_branch', 'email'],\n",
              "      dtype='object')"
            ]
          },
          "metadata": {},
          "execution_count": 18
        }
      ]
    },
    {
      "cell_type": "code",
      "source": [
        "for file, df in dataframes.items():\n",
        "    print(f\"--- {file} columns ---\")\n",
        "    print(df.columns.tolist())\n",
        "    print(f\"--- {file} first 3 rows ---\")\n",
        "    print(df.head(3))\n",
        "    print(\"\\n\")\n"
      ],
      "metadata": {
        "colab": {
          "base_uri": "https://localhost:8080/"
        },
        "id": "dyn37pdYQ60G",
        "outputId": "9d54270b-ca3c-45a1-dfff-e0e714caf0cd"
      },
      "execution_count": null,
      "outputs": [
        {
          "output_type": "stream",
          "name": "stdout",
          "text": [
            "--- appointments.csv columns ---\n",
            "['appointment_id', 'patient_id', 'doctor_id', 'appointment_date', 'appointment_time', 'reason_for_visit', 'status']\n",
            "--- appointments.csv first 3 rows ---\n",
            "  appointment_id patient_id doctor_id appointment_date appointment_time  \\\n",
            "0           A001       P034      D009       2023-08-09         15:15:00   \n",
            "1           A002       P032      D004       2023-06-09         14:30:00   \n",
            "2           A003       P048      D004       2023-06-28          8:00:00   \n",
            "\n",
            "  reason_for_visit     status  \n",
            "0          Therapy  Scheduled  \n",
            "1          Therapy    No-show  \n",
            "2     Consultation  Cancelled  \n",
            "\n",
            "\n",
            "--- treatments.csv columns ---\n",
            "['treatment_id', 'appointment_id', 'treatment_type', 'description', 'cost', 'treatment_date']\n",
            "--- treatments.csv first 3 rows ---\n",
            "  treatment_id appointment_id treatment_type         description     cost  \\\n",
            "0         T001           A001   Chemotherapy     Basic screening  3941.97   \n",
            "1         T002           A002            MRI   Advanced protocol  4158.44   \n",
            "2         T003           A003            MRI  Standard procedure  3731.55   \n",
            "\n",
            "  treatment_date  \n",
            "0     2023-08-09  \n",
            "1     2023-06-09  \n",
            "2     2023-06-28  \n",
            "\n",
            "\n",
            "--- patients.csv columns ---\n",
            "['patient_id', 'first_name', 'last_name', 'gender', 'date_of_birth', 'contact_number', 'address', 'registration_date', 'insurance_provider', 'insurance_number', 'email']\n",
            "--- patients.csv first 3 rows ---\n",
            "  patient_id first_name last_name gender date_of_birth  contact_number  \\\n",
            "0       P001      David  Williams      F    1955-06-04      6939585183   \n",
            "1       P002      Emily     Smith      F    1984-10-12      8228188767   \n",
            "2       P003      Laura     Jones      M    1977-08-21      8397029847   \n",
            "\n",
            "        address registration_date insurance_provider insurance_number  \\\n",
            "0   789 Pine Rd        2022-06-23       WellnessCorp        INS840674   \n",
            "1  321 Maple Dr        2022-01-15        PulseSecure        INS354079   \n",
            "2  321 Maple Dr        2022-02-07        PulseSecure        INS650929   \n",
            "\n",
            "                     email  \n",
            "0  david.williams@mail.com  \n",
            "1     emily.smith@mail.com  \n",
            "2     laura.jones@mail.com  \n",
            "\n",
            "\n",
            "--- billing.csv columns ---\n",
            "['bill_id', 'patient_id', 'treatment_id', 'bill_date', 'amount', 'payment_method', 'payment_status']\n",
            "--- billing.csv first 3 rows ---\n",
            "  bill_id patient_id treatment_id   bill_date   amount payment_method  \\\n",
            "0    B001       P034         T001  2023-08-09  3941.97      Insurance   \n",
            "1    B002       P032         T002  2023-06-09  4158.44      Insurance   \n",
            "2    B003       P048         T003  2023-06-28  3731.55      Insurance   \n",
            "\n",
            "  payment_status  \n",
            "0        Pending  \n",
            "1           Paid  \n",
            "2           Paid  \n",
            "\n",
            "\n",
            "--- doctors.csv columns ---\n",
            "['doctor_id', 'first_name', 'last_name', 'specialization', 'phone_number', 'years_experience', 'hospital_branch', 'email']\n",
            "--- doctors.csv first 3 rows ---\n",
            "  doctor_id first_name last_name specialization  phone_number  \\\n",
            "0      D001      David    Taylor    Dermatology    8322010158   \n",
            "1      D002       Jane     Davis     Pediatrics    9004382050   \n",
            "2      D003       Jane     Smith     Pediatrics    8737740598   \n",
            "\n",
            "   years_experience  hospital_branch                         email  \n",
            "0                17  Westside Clinic  dr.david.taylor@hospital.com  \n",
            "1                24  Eastside Clinic    dr.jane.davis@hospital.com  \n",
            "2                19  Eastside Clinic    dr.jane.smith@hospital.com  \n",
            "\n",
            "\n"
          ]
        }
      ]
    },
    {
      "cell_type": "code",
      "source": [
        "for file, df in dataframes.items():\n",
        "    print(f\"--- {file} info ---\")\n",
        "    print(df.info())\n",
        "    print(df.head())\n",
        "    print(df.isnull().sum())\n",
        "    print(df.duplicated().sum())\n",
        "    print(\"\\n\")\n"
      ],
      "metadata": {
        "colab": {
          "base_uri": "https://localhost:8080/"
        },
        "id": "ZId0nZ7ZSW-H",
        "outputId": "a27f2994-6c69-47e5-ebf9-0c0ebe7d0dc9"
      },
      "execution_count": null,
      "outputs": [
        {
          "output_type": "stream",
          "name": "stdout",
          "text": [
            "--- appointments.csv info ---\n",
            "<class 'pandas.core.frame.DataFrame'>\n",
            "RangeIndex: 200 entries, 0 to 199\n",
            "Data columns (total 7 columns):\n",
            " #   Column            Non-Null Count  Dtype \n",
            "---  ------            --------------  ----- \n",
            " 0   appointment_id    200 non-null    object\n",
            " 1   patient_id        200 non-null    object\n",
            " 2   doctor_id         200 non-null    object\n",
            " 3   appointment_date  200 non-null    object\n",
            " 4   appointment_time  200 non-null    object\n",
            " 5   reason_for_visit  200 non-null    object\n",
            " 6   status            200 non-null    object\n",
            "dtypes: object(7)\n",
            "memory usage: 11.1+ KB\n",
            "None\n",
            "  appointment_id patient_id doctor_id appointment_date appointment_time  \\\n",
            "0           A001       P034      D009       2023-08-09         15:15:00   \n",
            "1           A002       P032      D004       2023-06-09         14:30:00   \n",
            "2           A003       P048      D004       2023-06-28          8:00:00   \n",
            "3           A004       P025      D006       2023-09-01          9:15:00   \n",
            "4           A005       P040      D003       2023-07-06         12:45:00   \n",
            "\n",
            "  reason_for_visit     status  \n",
            "0          Therapy  Scheduled  \n",
            "1          Therapy    No-show  \n",
            "2     Consultation  Cancelled  \n",
            "3     Consultation  Cancelled  \n",
            "4        Emergency    No-show  \n",
            "appointment_id      0\n",
            "patient_id          0\n",
            "doctor_id           0\n",
            "appointment_date    0\n",
            "appointment_time    0\n",
            "reason_for_visit    0\n",
            "status              0\n",
            "dtype: int64\n",
            "0\n",
            "\n",
            "\n",
            "--- treatments.csv info ---\n",
            "<class 'pandas.core.frame.DataFrame'>\n",
            "RangeIndex: 200 entries, 0 to 199\n",
            "Data columns (total 6 columns):\n",
            " #   Column          Non-Null Count  Dtype  \n",
            "---  ------          --------------  -----  \n",
            " 0   treatment_id    200 non-null    object \n",
            " 1   appointment_id  200 non-null    object \n",
            " 2   treatment_type  200 non-null    object \n",
            " 3   description     200 non-null    object \n",
            " 4   cost            200 non-null    float64\n",
            " 5   treatment_date  200 non-null    object \n",
            "dtypes: float64(1), object(5)\n",
            "memory usage: 9.5+ KB\n",
            "None\n",
            "  treatment_id appointment_id treatment_type         description     cost  \\\n",
            "0         T001           A001   Chemotherapy     Basic screening  3941.97   \n",
            "1         T002           A002            MRI   Advanced protocol  4158.44   \n",
            "2         T003           A003            MRI  Standard procedure  3731.55   \n",
            "3         T004           A004            MRI     Basic screening  4799.86   \n",
            "4         T005           A005            ECG  Standard procedure   582.05   \n",
            "\n",
            "  treatment_date  \n",
            "0     2023-08-09  \n",
            "1     2023-06-09  \n",
            "2     2023-06-28  \n",
            "3     2023-09-01  \n",
            "4     2023-07-06  \n",
            "treatment_id      0\n",
            "appointment_id    0\n",
            "treatment_type    0\n",
            "description       0\n",
            "cost              0\n",
            "treatment_date    0\n",
            "dtype: int64\n",
            "0\n",
            "\n",
            "\n",
            "--- patients.csv info ---\n",
            "<class 'pandas.core.frame.DataFrame'>\n",
            "RangeIndex: 50 entries, 0 to 49\n",
            "Data columns (total 11 columns):\n",
            " #   Column              Non-Null Count  Dtype \n",
            "---  ------              --------------  ----- \n",
            " 0   patient_id          50 non-null     object\n",
            " 1   first_name          50 non-null     object\n",
            " 2   last_name           50 non-null     object\n",
            " 3   gender              50 non-null     object\n",
            " 4   date_of_birth       50 non-null     object\n",
            " 5   contact_number      50 non-null     int64 \n",
            " 6   address             50 non-null     object\n",
            " 7   registration_date   50 non-null     object\n",
            " 8   insurance_provider  50 non-null     object\n",
            " 9   insurance_number    50 non-null     object\n",
            " 10  email               50 non-null     object\n",
            "dtypes: int64(1), object(10)\n",
            "memory usage: 4.4+ KB\n",
            "None\n",
            "  patient_id first_name last_name gender date_of_birth  contact_number  \\\n",
            "0       P001      David  Williams      F    1955-06-04      6939585183   \n",
            "1       P002      Emily     Smith      F    1984-10-12      8228188767   \n",
            "2       P003      Laura     Jones      M    1977-08-21      8397029847   \n",
            "3       P004    Michael   Johnson      F    1981-02-20      9019443432   \n",
            "4       P005      David    Wilson      M    1960-06-23      7734463155   \n",
            "\n",
            "        address registration_date insurance_provider insurance_number  \\\n",
            "0   789 Pine Rd        2022-06-23       WellnessCorp        INS840674   \n",
            "1  321 Maple Dr        2022-01-15        PulseSecure        INS354079   \n",
            "2  321 Maple Dr        2022-02-07        PulseSecure        INS650929   \n",
            "3    123 Elm St        2021-03-02        HealthIndia        INS789944   \n",
            "4    123 Elm St        2021-09-29       MedCare Plus        INS788105   \n",
            "\n",
            "                      email  \n",
            "0   david.williams@mail.com  \n",
            "1      emily.smith@mail.com  \n",
            "2      laura.jones@mail.com  \n",
            "3  michael.johnson@mail.com  \n",
            "4     david.wilson@mail.com  \n",
            "patient_id            0\n",
            "first_name            0\n",
            "last_name             0\n",
            "gender                0\n",
            "date_of_birth         0\n",
            "contact_number        0\n",
            "address               0\n",
            "registration_date     0\n",
            "insurance_provider    0\n",
            "insurance_number      0\n",
            "email                 0\n",
            "dtype: int64\n",
            "0\n",
            "\n",
            "\n",
            "--- billing.csv info ---\n",
            "<class 'pandas.core.frame.DataFrame'>\n",
            "RangeIndex: 200 entries, 0 to 199\n",
            "Data columns (total 7 columns):\n",
            " #   Column          Non-Null Count  Dtype  \n",
            "---  ------          --------------  -----  \n",
            " 0   bill_id         200 non-null    object \n",
            " 1   patient_id      200 non-null    object \n",
            " 2   treatment_id    200 non-null    object \n",
            " 3   bill_date       200 non-null    object \n",
            " 4   amount          200 non-null    float64\n",
            " 5   payment_method  200 non-null    object \n",
            " 6   payment_status  200 non-null    object \n",
            "dtypes: float64(1), object(6)\n",
            "memory usage: 11.1+ KB\n",
            "None\n",
            "  bill_id patient_id treatment_id   bill_date   amount payment_method  \\\n",
            "0    B001       P034         T001  2023-08-09  3941.97      Insurance   \n",
            "1    B002       P032         T002  2023-06-09  4158.44      Insurance   \n",
            "2    B003       P048         T003  2023-06-28  3731.55      Insurance   \n",
            "3    B004       P025         T004  2023-09-01  4799.86      Insurance   \n",
            "4    B005       P040         T005  2023-07-06   582.05    Credit Card   \n",
            "\n",
            "  payment_status  \n",
            "0        Pending  \n",
            "1           Paid  \n",
            "2           Paid  \n",
            "3         Failed  \n",
            "4        Pending  \n",
            "bill_id           0\n",
            "patient_id        0\n",
            "treatment_id      0\n",
            "bill_date         0\n",
            "amount            0\n",
            "payment_method    0\n",
            "payment_status    0\n",
            "dtype: int64\n",
            "0\n",
            "\n",
            "\n",
            "--- doctors.csv info ---\n",
            "<class 'pandas.core.frame.DataFrame'>\n",
            "RangeIndex: 10 entries, 0 to 9\n",
            "Data columns (total 8 columns):\n",
            " #   Column            Non-Null Count  Dtype \n",
            "---  ------            --------------  ----- \n",
            " 0   doctor_id         10 non-null     object\n",
            " 1   first_name        10 non-null     object\n",
            " 2   last_name         10 non-null     object\n",
            " 3   specialization    10 non-null     object\n",
            " 4   phone_number      10 non-null     int64 \n",
            " 5   years_experience  10 non-null     int64 \n",
            " 6   hospital_branch   10 non-null     object\n",
            " 7   email             10 non-null     object\n",
            "dtypes: int64(2), object(6)\n",
            "memory usage: 772.0+ bytes\n",
            "None\n",
            "  doctor_id first_name last_name specialization  phone_number  \\\n",
            "0      D001      David    Taylor    Dermatology    8322010158   \n",
            "1      D002       Jane     Davis     Pediatrics    9004382050   \n",
            "2      D003       Jane     Smith     Pediatrics    8737740598   \n",
            "3      D004      David     Jones     Pediatrics    6594221991   \n",
            "4      D005      Sarah    Taylor    Dermatology    9118538547   \n",
            "\n",
            "   years_experience   hospital_branch                         email  \n",
            "0                17   Westside Clinic  dr.david.taylor@hospital.com  \n",
            "1                24   Eastside Clinic    dr.jane.davis@hospital.com  \n",
            "2                19   Eastside Clinic    dr.jane.smith@hospital.com  \n",
            "3                28  Central Hospital   dr.david.jones@hospital.com  \n",
            "4                26  Central Hospital  dr.sarah.taylor@hospital.com  \n",
            "doctor_id           0\n",
            "first_name          0\n",
            "last_name           0\n",
            "specialization      0\n",
            "phone_number        0\n",
            "years_experience    0\n",
            "hospital_branch     0\n",
            "email               0\n",
            "dtype: int64\n",
            "0\n",
            "\n",
            "\n"
          ]
        }
      ]
    },
    {
      "cell_type": "code",
      "source": [
        "print(df.info())\n",
        "print(df.head())\n",
        "print(df.describe())\n"
      ],
      "metadata": {
        "colab": {
          "base_uri": "https://localhost:8080/"
        },
        "id": "s-h4QL_HS-eO",
        "outputId": "a98f95bc-c77a-437b-9503-a6623d2cf6c1"
      },
      "execution_count": null,
      "outputs": [
        {
          "output_type": "stream",
          "name": "stdout",
          "text": [
            "<class 'pandas.core.frame.DataFrame'>\n",
            "RangeIndex: 10 entries, 0 to 9\n",
            "Data columns (total 8 columns):\n",
            " #   Column            Non-Null Count  Dtype \n",
            "---  ------            --------------  ----- \n",
            " 0   doctor_id         10 non-null     object\n",
            " 1   first_name        10 non-null     object\n",
            " 2   last_name         10 non-null     object\n",
            " 3   specialization    10 non-null     object\n",
            " 4   phone_number      10 non-null     int64 \n",
            " 5   years_experience  10 non-null     int64 \n",
            " 6   hospital_branch   10 non-null     object\n",
            " 7   email             10 non-null     object\n",
            "dtypes: int64(2), object(6)\n",
            "memory usage: 772.0+ bytes\n",
            "None\n",
            "  doctor_id first_name last_name specialization  phone_number  \\\n",
            "0      D001      David    Taylor    Dermatology    8322010158   \n",
            "1      D002       Jane     Davis     Pediatrics    9004382050   \n",
            "2      D003       Jane     Smith     Pediatrics    8737740598   \n",
            "3      D004      David     Jones     Pediatrics    6594221991   \n",
            "4      D005      Sarah    Taylor    Dermatology    9118538547   \n",
            "\n",
            "   years_experience   hospital_branch                         email  \n",
            "0                17   Westside Clinic  dr.david.taylor@hospital.com  \n",
            "1                24   Eastside Clinic    dr.jane.davis@hospital.com  \n",
            "2                19   Eastside Clinic    dr.jane.smith@hospital.com  \n",
            "3                28  Central Hospital   dr.david.jones@hospital.com  \n",
            "4                26  Central Hospital  dr.sarah.taylor@hospital.com  \n",
            "       phone_number  years_experience\n",
            "count  1.000000e+01           10.0000\n",
            "mean   7.919716e+09           21.5000\n",
            "std    1.142890e+09            6.7536\n",
            "min    6.176384e+09            5.0000\n",
            "25%    6.792438e+09           19.5000\n",
            "50%    8.269752e+09           23.5000\n",
            "75%    8.937722e+09           26.0000\n",
            "max    9.118539e+09           28.0000\n"
          ]
        }
      ]
    },
    {
      "cell_type": "markdown",
      "source": [
        "cleaning dataset\n"
      ],
      "metadata": {
        "id": "nBi8q2WQfFH1"
      }
    },
    {
      "cell_type": "code",
      "source": [
        "def clean_table(df):\n",
        "    df = df.drop_duplicates()\n",
        "\n",
        "\n",
        "    for col in df.select_dtypes(include=['float64', 'int64']).columns:\n",
        "        mean_val = df[col].mean()\n",
        "        fill_val = mean_val if not pd.isna(mean_val) else 0\n",
        "        df[col] = df[col].fillna(fill_val)\n",
        "\n",
        "\n",
        "    for col in df.select_dtypes(include='object').columns:\n",
        "        if df[col].isnull().any():\n",
        "            mode_val = df[col].mode()\n",
        "            fill_val = mode_val[0] if not mode_val.empty else 'unknown'\n",
        "            df[col] = df[col].fillna(fill_val)\n",
        "        df[col] = df[col].astype(str).str.strip()\n",
        "\n",
        "    return df\n",
        "\n"
      ],
      "metadata": {
        "id": "JJjUc2sKTEEd"
      },
      "execution_count": null,
      "outputs": []
    },
    {
      "cell_type": "code",
      "source": [
        "cleaned = {}\n",
        "\n",
        "for name, df in dataframes.items():\n",
        "    cleaned[name] = clean_table(df)\n",
        "    print(f\"{name} cleaned. Rows: {len(cleaned[name])}\")\n"
      ],
      "metadata": {
        "colab": {
          "base_uri": "https://localhost:8080/"
        },
        "id": "cf7C-otUTqzk",
        "outputId": "09e5aa78-aed7-4099-9e31-e4d7d319ea89"
      },
      "execution_count": null,
      "outputs": [
        {
          "output_type": "stream",
          "name": "stdout",
          "text": [
            "appointments.csv cleaned. Rows: 200\n",
            "treatments.csv cleaned. Rows: 200\n",
            "patients.csv cleaned. Rows: 50\n",
            "billing.csv cleaned. Rows: 200\n",
            "doctors.csv cleaned. Rows: 10\n"
          ]
        }
      ]
    },
    {
      "cell_type": "code",
      "source": [
        "date_columns = {\n",
        "    'appointments.csv': ['appointment_date'],\n",
        "    'treatments.csv': ['treatment_date'],\n",
        "    'patients.csv': ['date_of_birth', 'registration_date'],\n",
        "    'billing.csv': ['bill_date']\n",
        "}\n",
        "\n",
        "for df_name, cols in date_columns.items():\n",
        "    for col in cols:\n",
        "        cleaned[df_name][col] = pd.to_datetime(cleaned[df_name][col], errors='coerce')\n"
      ],
      "metadata": {
        "id": "vRZlQ1pqTtrr"
      },
      "execution_count": null,
      "outputs": []
    },
    {
      "cell_type": "code",
      "source": [
        "def check_fk(child_df, child_col, parent_df, parent_col):\n",
        "    missing_keys = set(child_df[child_col]) - set(parent_df[parent_col])\n",
        "    if missing_keys:\n",
        "        print(f\"Missing foreign keys in '{child_col}': {missing_keys}\")\n",
        "        return child_df[child_df[child_col].isin(missing_keys)].index\n",
        "    return []\n",
        "\n",
        "fk_checks = [\n",
        "    ('appointments.csv', 'patient_id', 'patients.csv', 'patient_id'),\n",
        "    ('appointments.csv', 'doctor_id', 'doctors.csv', 'doctor_id'),\n",
        "    ('treatments.csv', 'appointment_id', 'appointments.csv', 'appointment_id'),\n",
        "    ('billing.csv', 'patient_id', 'patients.csv', 'patient_id'),\n",
        "    ('billing.csv', 'treatment_id', 'treatments.csv', 'treatment_id'),\n",
        "]\n",
        "\n",
        "for child_file, child_col, parent_file, parent_col in fk_checks:\n",
        "    invalid_idx = check_fk(cleaned[child_file], child_col, cleaned[parent_file], parent_col)\n",
        "    if len(invalid_idx) > 0:\n",
        "        cleaned[child_file] = cleaned[child_file].drop(invalid_idx)\n",
        "        print(f\"Dropped {len(invalid_idx)} rows from {child_file} due to invalid {child_col}\")\n"
      ],
      "metadata": {
        "id": "yqr3iaSFTwxE"
      },
      "execution_count": null,
      "outputs": []
    },
    {
      "cell_type": "code",
      "source": [
        "for name, df in cleaned.items():\n",
        "    print(f\"\\n{name} cleaned info:\")\n",
        "    print(df.info())\n",
        "    print(df.head(3))\n"
      ],
      "metadata": {
        "colab": {
          "base_uri": "https://localhost:8080/"
        },
        "id": "mhqj9-EOT10M",
        "outputId": "65753d80-40fe-4279-a53a-60de299b8585"
      },
      "execution_count": null,
      "outputs": [
        {
          "output_type": "stream",
          "name": "stdout",
          "text": [
            "\n",
            "appointments.csv cleaned info:\n",
            "<class 'pandas.core.frame.DataFrame'>\n",
            "RangeIndex: 200 entries, 0 to 199\n",
            "Data columns (total 7 columns):\n",
            " #   Column            Non-Null Count  Dtype         \n",
            "---  ------            --------------  -----         \n",
            " 0   appointment_id    200 non-null    object        \n",
            " 1   patient_id        200 non-null    object        \n",
            " 2   doctor_id         200 non-null    object        \n",
            " 3   appointment_date  200 non-null    datetime64[ns]\n",
            " 4   appointment_time  200 non-null    object        \n",
            " 5   reason_for_visit  200 non-null    object        \n",
            " 6   status            200 non-null    object        \n",
            "dtypes: datetime64[ns](1), object(6)\n",
            "memory usage: 11.1+ KB\n",
            "None\n",
            "  appointment_id patient_id doctor_id appointment_date appointment_time  \\\n",
            "0           A001       P034      D009       2023-08-09         15:15:00   \n",
            "1           A002       P032      D004       2023-06-09         14:30:00   \n",
            "2           A003       P048      D004       2023-06-28          8:00:00   \n",
            "\n",
            "  reason_for_visit     status  \n",
            "0          Therapy  Scheduled  \n",
            "1          Therapy    No-show  \n",
            "2     Consultation  Cancelled  \n",
            "\n",
            "treatments.csv cleaned info:\n",
            "<class 'pandas.core.frame.DataFrame'>\n",
            "RangeIndex: 200 entries, 0 to 199\n",
            "Data columns (total 6 columns):\n",
            " #   Column          Non-Null Count  Dtype         \n",
            "---  ------          --------------  -----         \n",
            " 0   treatment_id    200 non-null    object        \n",
            " 1   appointment_id  200 non-null    object        \n",
            " 2   treatment_type  200 non-null    object        \n",
            " 3   description     200 non-null    object        \n",
            " 4   cost            200 non-null    float64       \n",
            " 5   treatment_date  200 non-null    datetime64[ns]\n",
            "dtypes: datetime64[ns](1), float64(1), object(4)\n",
            "memory usage: 9.5+ KB\n",
            "None\n",
            "  treatment_id appointment_id treatment_type         description     cost  \\\n",
            "0         T001           A001   Chemotherapy     Basic screening  3941.97   \n",
            "1         T002           A002            MRI   Advanced protocol  4158.44   \n",
            "2         T003           A003            MRI  Standard procedure  3731.55   \n",
            "\n",
            "  treatment_date  \n",
            "0     2023-08-09  \n",
            "1     2023-06-09  \n",
            "2     2023-06-28  \n",
            "\n",
            "patients.csv cleaned info:\n",
            "<class 'pandas.core.frame.DataFrame'>\n",
            "RangeIndex: 50 entries, 0 to 49\n",
            "Data columns (total 11 columns):\n",
            " #   Column              Non-Null Count  Dtype         \n",
            "---  ------              --------------  -----         \n",
            " 0   patient_id          50 non-null     object        \n",
            " 1   first_name          50 non-null     object        \n",
            " 2   last_name           50 non-null     object        \n",
            " 3   gender              50 non-null     object        \n",
            " 4   date_of_birth       50 non-null     datetime64[ns]\n",
            " 5   contact_number      50 non-null     int64         \n",
            " 6   address             50 non-null     object        \n",
            " 7   registration_date   50 non-null     datetime64[ns]\n",
            " 8   insurance_provider  50 non-null     object        \n",
            " 9   insurance_number    50 non-null     object        \n",
            " 10  email               50 non-null     object        \n",
            "dtypes: datetime64[ns](2), int64(1), object(8)\n",
            "memory usage: 4.4+ KB\n",
            "None\n",
            "  patient_id first_name last_name gender date_of_birth  contact_number  \\\n",
            "0       P001      David  Williams      F    1955-06-04      6939585183   \n",
            "1       P002      Emily     Smith      F    1984-10-12      8228188767   \n",
            "2       P003      Laura     Jones      M    1977-08-21      8397029847   \n",
            "\n",
            "        address registration_date insurance_provider insurance_number  \\\n",
            "0   789 Pine Rd        2022-06-23       WellnessCorp        INS840674   \n",
            "1  321 Maple Dr        2022-01-15        PulseSecure        INS354079   \n",
            "2  321 Maple Dr        2022-02-07        PulseSecure        INS650929   \n",
            "\n",
            "                     email  \n",
            "0  david.williams@mail.com  \n",
            "1     emily.smith@mail.com  \n",
            "2     laura.jones@mail.com  \n",
            "\n",
            "billing.csv cleaned info:\n",
            "<class 'pandas.core.frame.DataFrame'>\n",
            "RangeIndex: 200 entries, 0 to 199\n",
            "Data columns (total 7 columns):\n",
            " #   Column          Non-Null Count  Dtype         \n",
            "---  ------          --------------  -----         \n",
            " 0   bill_id         200 non-null    object        \n",
            " 1   patient_id      200 non-null    object        \n",
            " 2   treatment_id    200 non-null    object        \n",
            " 3   bill_date       200 non-null    datetime64[ns]\n",
            " 4   amount          200 non-null    float64       \n",
            " 5   payment_method  200 non-null    object        \n",
            " 6   payment_status  200 non-null    object        \n",
            "dtypes: datetime64[ns](1), float64(1), object(5)\n",
            "memory usage: 11.1+ KB\n",
            "None\n",
            "  bill_id patient_id treatment_id  bill_date   amount payment_method  \\\n",
            "0    B001       P034         T001 2023-08-09  3941.97      Insurance   \n",
            "1    B002       P032         T002 2023-06-09  4158.44      Insurance   \n",
            "2    B003       P048         T003 2023-06-28  3731.55      Insurance   \n",
            "\n",
            "  payment_status  \n",
            "0        Pending  \n",
            "1           Paid  \n",
            "2           Paid  \n",
            "\n",
            "doctors.csv cleaned info:\n",
            "<class 'pandas.core.frame.DataFrame'>\n",
            "RangeIndex: 10 entries, 0 to 9\n",
            "Data columns (total 8 columns):\n",
            " #   Column            Non-Null Count  Dtype \n",
            "---  ------            --------------  ----- \n",
            " 0   doctor_id         10 non-null     object\n",
            " 1   first_name        10 non-null     object\n",
            " 2   last_name         10 non-null     object\n",
            " 3   specialization    10 non-null     object\n",
            " 4   phone_number      10 non-null     int64 \n",
            " 5   years_experience  10 non-null     int64 \n",
            " 6   hospital_branch   10 non-null     object\n",
            " 7   email             10 non-null     object\n",
            "dtypes: int64(2), object(6)\n",
            "memory usage: 772.0+ bytes\n",
            "None\n",
            "  doctor_id first_name last_name specialization  phone_number  \\\n",
            "0      D001      David    Taylor    Dermatology    8322010158   \n",
            "1      D002       Jane     Davis     Pediatrics    9004382050   \n",
            "2      D003       Jane     Smith     Pediatrics    8737740598   \n",
            "\n",
            "   years_experience  hospital_branch                         email  \n",
            "0                17  Westside Clinic  dr.david.taylor@hospital.com  \n",
            "1                24  Eastside Clinic    dr.jane.davis@hospital.com  \n",
            "2                19  Eastside Clinic    dr.jane.smith@hospital.com  \n"
          ]
        }
      ]
    },
    {
      "cell_type": "code",
      "source": [
        "import matplotlib.pyplot as plt\n",
        "\n",
        "\n",
        "appointments = cleaned['appointments.csv']\n",
        "patients = cleaned['patients.csv']\n",
        "doctors = cleaned['doctors.csv']\n",
        "billing = cleaned['billing.csv']\n"
      ],
      "metadata": {
        "id": "MHefLKWSUJwr"
      },
      "execution_count": null,
      "outputs": []
    },
    {
      "cell_type": "markdown",
      "source": [
        "Pircharts for appointment status"
      ],
      "metadata": {
        "id": "nNbKFcVleiLH"
      }
    },
    {
      "cell_type": "code",
      "source": [
        "status_counts = appointments['status'].value_counts()\n",
        "\n",
        "plt.figure(figsize=(6,6))\n",
        "plt.pie(status_counts, labels=status_counts.index, autopct='%1.1f%%', startangle=140)\n",
        "plt.title('Appointment Status Distribution')\n",
        "plt.show()\n"
      ],
      "metadata": {
        "colab": {
          "base_uri": "https://localhost:8080/",
          "height": 521
        },
        "id": "Rdi_BIbmUNpD",
        "outputId": "54ad4c6b-1e3d-4c19-cd56-87d4c3591827"
      },
      "execution_count": null,
      "outputs": [
        {
          "output_type": "display_data",
          "data": {
            "text/plain": [
              "<Figure size 600x600 with 1 Axes>"
            ],
            "image/png": "[encoded data removed]"
          },
          "metadata": {}
        }
      ]
    },
    {
      "cell_type": "markdown",
      "source": [
        "Piecharts for patient gender distribution"
      ],
      "metadata": {
        "id": "pT6z2jfkepeR"
      }
    },
    {
      "cell_type": "code",
      "source": [
        "gender_counts = patients['gender'].value_counts()\n",
        "\n",
        "plt.figure(figsize=(6,6))\n",
        "plt.pie(gender_counts, labels=gender_counts.index, autopct='%1.1f%%', startangle=140)\n",
        "plt.title('Patient Gender Distribution')\n",
        "plt.show()\n"
      ],
      "metadata": {
        "colab": {
          "base_uri": "https://localhost:8080/",
          "height": 521
        },
        "id": "ZNkeJBo5UUrC",
        "outputId": "86556ddd-129c-4470-d93e-1b466935f322"
      },
      "execution_count": null,
      "outputs": [
        {
          "output_type": "display_data",
          "data": {
            "text/plain": [
              "<Figure size 600x600 with 1 Axes>"
            ],
            "image/png": "[encoded data removed]"
          },
          "metadata": {}
        }
      ]
    },
    {
      "cell_type": "markdown",
      "source": [
        "Piecharts for doctor specialization distribution"
      ],
      "metadata": {
        "id": "RqPPs5LIeup3"
      }
    },
    {
      "cell_type": "code",
      "source": [
        "specialization_counts = doctors['specialization'].value_counts()\n",
        "\n",
        "plt.figure(figsize=(7,7))\n",
        "plt.pie(specialization_counts, labels=specialization_counts.index, autopct='%1.1f%%', startangle=140)\n",
        "plt.title('Doctor Specialization Distribution')\n",
        "plt.show()\n"
      ],
      "metadata": {
        "colab": {
          "base_uri": "https://localhost:8080/",
          "height": 598
        },
        "id": "Fn6rNx6LUW9z",
        "outputId": "62e663af-d76d-4d82-e732-3880b6cf589e"
      },
      "execution_count": null,
      "outputs": [
        {
          "output_type": "display_data",
          "data": {
            "text/plain": [
              "<Figure size 700x700 with 1 Axes>"
            ],
            "image/png": "[encoded data removed]"
          },
          "metadata": {}
        }
      ]
    },
    {
      "cell_type": "markdown",
      "source": [
        "Piecharts for billing payment status"
      ],
      "metadata": {
        "id": "tJkDakVae2Hu"
      }
    },
    {
      "cell_type": "code",
      "source": [
        "payment_status_counts = billing['payment_status'].value_counts()\n",
        "\n",
        "plt.figure(figsize=(6,6))\n",
        "plt.pie(payment_status_counts, labels=payment_status_counts.index, autopct='%1.1f%%', startangle=140)\n",
        "plt.title('Billing Payment Status Distribution')\n",
        "plt.show()\n"
      ],
      "metadata": {
        "colab": {
          "base_uri": "https://localhost:8080/",
          "height": 521
        },
        "id": "xWxiyepTUZ76",
        "outputId": "2d968812-efcf-47be-a7f8-697dbfdc71ab"
      },
      "execution_count": null,
      "outputs": [
        {
          "output_type": "display_data",
          "data": {
            "text/plain": [
              "<Figure size 600x600 with 1 Axes>"
            ],
            "image/png": "[encoded data removed]"
          },
          "metadata": {}
        }
      ]
    },
    {
      "cell_type": "code",
      "source": [
        "import pandas as pd\n",
        "from sklearn.model_selection import train_test_split\n",
        "from sklearn.preprocessing import LabelEncoder\n",
        "from sklearn.ensemble import RandomForestClassifier\n",
        "from sklearn.linear_model import LogisticRegression\n",
        "from sklearn.metrics import classification_report, accuracy_score"
      ],
      "metadata": {
        "id": "G_j8YxUdVBEZ"
      },
      "execution_count": null,
      "outputs": []
    },
    {
      "cell_type": "markdown",
      "source": [
        "Load cleaned appointments data"
      ],
      "metadata": {
        "id": "cekKzzzddaVI"
      }
    },
    {
      "cell_type": "code",
      "source": [
        "df = cleaned['appointments.csv'].copy()"
      ],
      "metadata": {
        "id": "iE8RqSZBVKZp"
      },
      "execution_count": null,
      "outputs": []
    },
    {
      "cell_type": "markdown",
      "source": [
        "creating binary label 'attended' vs 'no show'\n"
      ],
      "metadata": {
        "id": "BEgsbZAEdhFI"
      }
    },
    {
      "cell_type": "code",
      "source": [
        "df['target'] = df['status'].apply(lambda x: 0 if x.lower() == 'no-show' else 1)"
      ],
      "metadata": {
        "id": "h96htATIVRF5"
      },
      "execution_count": null,
      "outputs": []
    },
    {
      "cell_type": "markdown",
      "source": [
        "extracting day of the week from date"
      ],
      "metadata": {
        "id": "NvuXukA8dzfB"
      }
    },
    {
      "cell_type": "code",
      "source": [
        "df['appointment_date'] = pd.to_datetime(df['appointment_date'])\n",
        "df['day_of_week'] = df['appointment_date'].dt.dayofweek"
      ],
      "metadata": {
        "id": "2mPpoDoEVX05"
      },
      "execution_count": null,
      "outputs": []
    },
    {
      "cell_type": "markdown",
      "source": [
        "selecting features"
      ],
      "metadata": {
        "id": "CzlB8S21d-so"
      }
    },
    {
      "cell_type": "code",
      "source": [
        "features = ['patient_id', 'doctor_id', 'reason_for_visit', 'day_of_week']"
      ],
      "metadata": {
        "id": "2aEFmj_OVb9Z"
      },
      "execution_count": null,
      "outputs": []
    },
    {
      "cell_type": "markdown",
      "source": [
        "categorical features usings LabelEncoder"
      ],
      "metadata": {
        "id": "WifTnUvxeDEQ"
      }
    },
    {
      "cell_type": "code",
      "source": [
        "for col in ['patient_id', 'doctor_id', 'reason_for_visit']:\n",
        "    le = LabelEncoder()\n",
        "    df[col] = le.fit_transform(df[col])\n",
        "\n",
        "X = df[features]\n",
        "y = df['target']"
      ],
      "metadata": {
        "id": "wlAKwc3DVloi"
      },
      "execution_count": null,
      "outputs": []
    },
    {
      "cell_type": "markdown",
      "source": [
        "split data inton train and test sets"
      ],
      "metadata": {
        "id": "nEvAR3mueMeY"
      }
    },
    {
      "cell_type": "code",
      "source": [
        "X_train, X_test, y_train, y_test = train_test_split(X, y, test_size=0.2, random_state=42)"
      ],
      "metadata": {
        "id": "tyyGwjTCVp3K"
      },
      "execution_count": null,
      "outputs": []
    },
    {
      "cell_type": "markdown",
      "source": [
        "Logistic Regression"
      ],
      "metadata": {
        "id": "hHrnIDmveWd3"
      }
    },
    {
      "cell_type": "code",
      "source": [
        "logreg = LogisticRegression(max_iter=500)\n",
        "logreg.fit(X_train, y_train)\n",
        "y_pred_logreg = logreg.predict(X_test)\n",
        "print(\"Logistic Regression Accuracy:\", accuracy_score(y_test, y_pred_logreg))\n",
        "print(classification_report(y_test, y_pred_logreg))\n"
      ],
      "metadata": {
        "colab": {
          "base_uri": "https://localhost:8080/"
        },
        "id": "Y85TI6oIVvJh",
        "outputId": "ef2b318c-0419-4572-e5d6-a4e02819135e"
      },
      "execution_count": null,
      "outputs": [
        {
          "output_type": "stream",
          "name": "stdout",
          "text": [
            "Logistic Regression Accuracy: 0.825\n",
            "              precision    recall  f1-score   support\n",
            "\n",
            "           0       0.00      0.00      0.00         7\n",
            "           1       0.82      1.00      0.90        33\n",
            "\n",
            "    accuracy                           0.82        40\n",
            "   macro avg       0.41      0.50      0.45        40\n",
            "weighted avg       0.68      0.82      0.75        40\n",
            "\n"
          ]
        },
        {
          "output_type": "stream",
          "name": "stderr",
          "text": [
            "/usr/local/lib/python3.11/dist-packages/sklearn/metrics/_classification.py:1565: UndefinedMetricWarning: Precision is ill-defined and being set to 0.0 in labels with no predicted samples. Use `zero_division` parameter to control this behavior.\n",
            "  _warn_prf(average, modifier, f\"{metric.capitalize()} is\", len(result))\n",
            "/usr/local/lib/python3.11/dist-packages/sklearn/metrics/_classification.py:1565: UndefinedMetricWarning: Precision is ill-defined and being set to 0.0 in labels with no predicted samples. Use `zero_division` parameter to control this behavior.\n",
            "  _warn_prf(average, modifier, f\"{metric.capitalize()} is\", len(result))\n",
            "/usr/local/lib/python3.11/dist-packages/sklearn/metrics/_classification.py:1565: UndefinedMetricWarning: Precision is ill-defined and being set to 0.0 in labels with no predicted samples. Use `zero_division` parameter to control this behavior.\n",
            "  _warn_prf(average, modifier, f\"{metric.capitalize()} is\", len(result))\n"
          ]
        }
      ]
    },
    {
      "cell_type": "markdown",
      "source": [
        "Random Forest"
      ],
      "metadata": {
        "id": "wmxRi_mfeaNw"
      }
    },
    {
      "cell_type": "code",
      "source": [
        "rf = RandomForestClassifier(n_estimators=100, random_state=42)\n",
        "rf.fit(X_train, y_train)\n",
        "y_pred_rf = rf.predict(X_test)\n",
        "print(\"Random Forest Accuracy:\", accuracy_score(y_test, y_pred_rf))\n",
        "print(classification_report(y_test, y_pred_rf))"
      ],
      "metadata": {
        "colab": {
          "base_uri": "https://localhost:8080/"
        },
        "id": "poRgI77EV1Px",
        "outputId": "d5c9f061-5fed-4321-d690-b2da79dfd9c8"
      },
      "execution_count": null,
      "outputs": [
        {
          "output_type": "stream",
          "name": "stdout",
          "text": [
            "Random Forest Accuracy: 0.75\n",
            "              precision    recall  f1-score   support\n",
            "\n",
            "           0       0.20      0.14      0.17         7\n",
            "           1       0.83      0.88      0.85        33\n",
            "\n",
            "    accuracy                           0.75        40\n",
            "   macro avg       0.51      0.51      0.51        40\n",
            "weighted avg       0.72      0.75      0.73        40\n",
            "\n"
          ]
        }
      ]
    }
  ]
}